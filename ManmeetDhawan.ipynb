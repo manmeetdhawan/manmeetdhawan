{
  "nbformat": 4,
  "nbformat_minor": 0,
  "metadata": {
    "colab": {
      "name": "ManmeetDhawan.ipynb",
      "provenance": [],
      "collapsed_sections": []
    },
    "kernelspec": {
      "name": "python3",
      "display_name": "Python 3"
    },
    "language_info": {
      "name": "python"
    }
  },
  "cells": [
    {
      "cell_type": "code",
      "metadata": {
        "id": "DWQAEh-rDyQz"
      },
      "source": [
        "import pandas as pd\n",
        "import numpy as np\n",
        "import matplotlib.pyplot as plt\n",
        "from sklearn import datasets"
      ],
      "execution_count": 1,
      "outputs": []
    },
    {
      "cell_type": "code",
      "metadata": {
        "id": "62c_vVGWD9Z8"
      },
      "source": [
        "# Take make moons in built dataset\n",
        "data_=datasets.make_moons(100)"
      ],
      "execution_count": 109,
      "outputs": []
    },
    {
      "cell_type": "code",
      "metadata": {
        "colab": {
          "base_uri": "https://localhost:8080/"
        },
        "id": "LF_5pbJOD_qp",
        "outputId": "8167ea85-c0b9-46b0-f063-35669a6794dd"
      },
      "source": [
        "# check the dataset\n",
        "data_"
      ],
      "execution_count": 110,
      "outputs": [
        {
          "output_type": "execute_result",
          "data": {
            "text/plain": [
              "(array([[-9.60230259e-02,  9.95379113e-01],\n",
              "        [ 1.98586378e-01, -9.81105305e-02],\n",
              "        [ 2.81650650e-01, -1.95682551e-01],\n",
              "        [-5.18392568e-01,  8.55142763e-01],\n",
              "        [ 1.87131870e+00,  9.28244800e-03],\n",
              "        [ 5.72116660e-01,  8.20172255e-01],\n",
              "        [ 6.23489802e-01,  7.81831482e-01],\n",
              "        [ 9.00968868e-01,  4.33883739e-01],\n",
              "        [ 4.27883340e-01, -3.20172255e-01],\n",
              "        [ 9.49055747e-01,  3.15108218e-01],\n",
              "        [ 1.03205158e+00, -4.99486216e-01],\n",
              "        [-8.01413622e-01,  5.98110530e-01],\n",
              "        [ 1.51839257e+00, -3.55142763e-01],\n",
              "        [-1.59599895e-01,  9.87181783e-01],\n",
              "        [ 1.94905575e+00,  1.84891782e-01],\n",
              "        [ 1.61911895e-01, -4.55349012e-02],\n",
              "        [ 3.27051370e-02,  2.46345416e-01],\n",
              "        [ 9.67948422e-01, -4.99486216e-01],\n",
              "        [-9.49055747e-01,  3.15108218e-01],\n",
              "        [ 2.84527587e-01,  9.58667853e-01],\n",
              "        [-2.84527587e-01,  9.58667853e-01],\n",
              "        [ 1.99794539e+00,  4.35929780e-01],\n",
              "        [-9.00968868e-01,  4.33883739e-01],\n",
              "        [ 4.04783343e-01,  9.14412623e-01],\n",
              "        [ 7.15472413e-01, -4.58667853e-01],\n",
              "        [ 9.03976974e-01, -4.95379113e-01],\n",
              "        [ 1.28681296e-01,  9.28244800e-03],\n",
              "        [ 7.61445958e-01,  6.48228395e-01],\n",
              "        [ 1.84408430e-02,  3.08841371e-01],\n",
              "        [ 3.76510198e-01, -2.81831482e-01],\n",
              "        [ 1.92691676e+00,  1.24732995e-01],\n",
              "        [-9.97945393e-01,  6.40702200e-02],\n",
              "        [ 3.20515776e-02,  9.99486216e-01],\n",
              "        [ 3.27699110e-01, -2.40277997e-01],\n",
              "        [ 5.18392568e-01,  8.55142763e-01],\n",
              "        [ 8.40400105e-01, -4.87181783e-01],\n",
              "        [ 2.05460725e-03,  4.35929780e-01],\n",
              "        [-9.67294863e-01,  2.53654584e-01],\n",
              "        [ 8.38088105e-01,  5.45534901e-01],\n",
              "        [ 1.62348980e+00, -2.81831482e-01],\n",
              "        [ 1.59599895e-01,  9.87181783e-01],\n",
              "        [ 8.71318704e-01,  4.90717552e-01],\n",
              "        [ 8.01413622e-01,  5.98110530e-01],\n",
              "        [ 9.81559157e-01,  1.91158629e-01],\n",
              "        [ 2.00000000e+00,  5.00000000e-01],\n",
              "        [ 2.38554042e-01, -1.48228395e-01],\n",
              "        [ 1.00000000e+00,  0.00000000e+00],\n",
              "        [-6.23489802e-01,  7.81831482e-01],\n",
              "        [ 5.37461710e-01, -3.86599306e-01],\n",
              "        [-3.45365054e-01,  9.38468422e-01],\n",
              "        [ 1.80141362e+00, -9.81105305e-02],\n",
              "        [-8.71318704e-01,  4.90717552e-01],\n",
              "        [ 3.45365054e-01,  9.38468422e-01],\n",
              "        [ 6.54634946e-01, -4.38468422e-01],\n",
              "        [ 6.72300890e-01,  7.40277997e-01],\n",
              "        [ 9.90311321e-02,  6.61162609e-02],\n",
              "        [-3.20515776e-02,  9.99486216e-01],\n",
              "        [ 1.67230089e+00, -2.40277997e-01],\n",
              "        [ 1.71834935e+00, -1.95682551e-01],\n",
              "        [ 9.60230259e-02,  9.95379113e-01],\n",
              "        [-2.22520934e-01,  9.74927912e-01],\n",
              "        [ 1.15959990e+00, -4.87181783e-01],\n",
              "        [-1.00000000e+00,  1.22464680e-16],\n",
              "        [ 0.00000000e+00,  5.00000000e-01],\n",
              "        [ 1.57211666e+00, -3.20172255e-01],\n",
              "        [ 9.67294863e-01,  2.53654584e-01],\n",
              "        [ 7.30832427e-02,  1.24732995e-01],\n",
              "        [ 1.34536505e+00, -4.38468422e-01],\n",
              "        [ 1.76144596e+00, -1.48228395e-01],\n",
              "        [-9.81559157e-01,  1.91158629e-01],\n",
              "        [ 1.83808810e+00, -4.55349012e-02],\n",
              "        [ 1.28452759e+00, -4.58667853e-01],\n",
              "        [ 7.18349350e-01,  6.95682551e-01],\n",
              "        [ 9.97945393e-01,  6.40702200e-02],\n",
              "        [ 9.26916757e-01,  3.75267005e-01],\n",
              "        [-9.91790014e-01,  1.27877162e-01],\n",
              "        [-7.61445958e-01,  6.48228395e-01],\n",
              "        [ 1.96729486e+00,  2.46345416e-01],\n",
              "        [ 2.22520934e-01,  9.74927912e-01],\n",
              "        [ 5.09442530e-02,  1.84891782e-01],\n",
              "        [ 1.09602303e+00, -4.95379113e-01],\n",
              "        [ 5.95216657e-01, -4.14412623e-01],\n",
              "        [-4.62538290e-01,  8.86599306e-01],\n",
              "        [ 1.98155916e+00,  3.08841371e-01],\n",
              "        [-6.72300890e-01,  7.40277997e-01],\n",
              "        [ 1.46253829e+00, -3.86599306e-01],\n",
              "        [ 8.20998618e-03,  3.72122838e-01],\n",
              "        [ 4.81607432e-01, -3.55142763e-01],\n",
              "        [ 1.22252093e+00, -4.74927912e-01],\n",
              "        [ 1.40478334e+00, -4.14412623e-01],\n",
              "        [ 1.90096887e+00,  6.61162609e-02],\n",
              "        [-4.04783343e-01,  9.14412623e-01],\n",
              "        [ 1.99179001e+00,  3.72122838e-01],\n",
              "        [ 9.91790014e-01,  1.27877162e-01],\n",
              "        [ 4.62538290e-01,  8.86599306e-01],\n",
              "        [-9.26916757e-01,  3.75267005e-01],\n",
              "        [ 7.77479066e-01, -4.74927912e-01],\n",
              "        [-8.38088105e-01,  5.45534901e-01],\n",
              "        [-5.72116660e-01,  8.20172255e-01],\n",
              "        [-7.18349350e-01,  6.95682551e-01]]),\n",
              " array([0, 1, 1, 0, 1, 0, 0, 0, 1, 0, 1, 0, 1, 0, 1, 1, 1, 1, 0, 0, 0, 1,\n",
              "        0, 0, 1, 1, 1, 0, 1, 1, 1, 0, 0, 1, 0, 1, 1, 0, 0, 1, 0, 0, 0, 0,\n",
              "        1, 1, 0, 0, 1, 0, 1, 0, 0, 1, 0, 1, 0, 1, 1, 0, 0, 1, 0, 1, 1, 0,\n",
              "        1, 1, 1, 0, 1, 1, 0, 0, 0, 0, 0, 1, 0, 1, 1, 1, 0, 1, 0, 1, 1, 1,\n",
              "        1, 1, 1, 0, 1, 0, 0, 0, 1, 0, 0, 0]))"
            ]
          },
          "metadata": {
            "tags": []
          },
          "execution_count": 110
        }
      ]
    },
    {
      "cell_type": "code",
      "metadata": {
        "id": "gACSgF5TD-vX"
      },
      "source": [
        "# create input dataframe\n",
        "input_data=pd.DataFrame(data=data_[0])"
      ],
      "execution_count": 111,
      "outputs": []
    },
    {
      "cell_type": "code",
      "metadata": {
        "colab": {
          "base_uri": "https://localhost:8080/",
          "height": 204
        },
        "id": "NnC6bciND-yL",
        "outputId": "37261a9c-fe85-4cad-eb20-bd7593198075"
      },
      "source": [
        "input_data.head()"
      ],
      "execution_count": 112,
      "outputs": [
        {
          "output_type": "execute_result",
          "data": {
            "text/html": [
              "<div>\n",
              "<style scoped>\n",
              "    .dataframe tbody tr th:only-of-type {\n",
              "        vertical-align: middle;\n",
              "    }\n",
              "\n",
              "    .dataframe tbody tr th {\n",
              "        vertical-align: top;\n",
              "    }\n",
              "\n",
              "    .dataframe thead th {\n",
              "        text-align: right;\n",
              "    }\n",
              "</style>\n",
              "<table border=\"1\" class=\"dataframe\">\n",
              "  <thead>\n",
              "    <tr style=\"text-align: right;\">\n",
              "      <th></th>\n",
              "      <th>0</th>\n",
              "      <th>1</th>\n",
              "    </tr>\n",
              "  </thead>\n",
              "  <tbody>\n",
              "    <tr>\n",
              "      <th>0</th>\n",
              "      <td>-0.096023</td>\n",
              "      <td>0.995379</td>\n",
              "    </tr>\n",
              "    <tr>\n",
              "      <th>1</th>\n",
              "      <td>0.198586</td>\n",
              "      <td>-0.098111</td>\n",
              "    </tr>\n",
              "    <tr>\n",
              "      <th>2</th>\n",
              "      <td>0.281651</td>\n",
              "      <td>-0.195683</td>\n",
              "    </tr>\n",
              "    <tr>\n",
              "      <th>3</th>\n",
              "      <td>-0.518393</td>\n",
              "      <td>0.855143</td>\n",
              "    </tr>\n",
              "    <tr>\n",
              "      <th>4</th>\n",
              "      <td>1.871319</td>\n",
              "      <td>0.009282</td>\n",
              "    </tr>\n",
              "  </tbody>\n",
              "</table>\n",
              "</div>"
            ],
            "text/plain": [
              "          0         1\n",
              "0 -0.096023  0.995379\n",
              "1  0.198586 -0.098111\n",
              "2  0.281651 -0.195683\n",
              "3 -0.518393  0.855143\n",
              "4  1.871319  0.009282"
            ]
          },
          "metadata": {
            "tags": []
          },
          "execution_count": 112
        }
      ]
    },
    {
      "cell_type": "code",
      "metadata": {
        "id": "AyqKjw8-F7Jw"
      },
      "source": [
        "# create output dataframe\n",
        "output_data=pd.DataFrame(data=data_[1])"
      ],
      "execution_count": 113,
      "outputs": []
    },
    {
      "cell_type": "code",
      "metadata": {
        "colab": {
          "base_uri": "https://localhost:8080/",
          "height": 204
        },
        "id": "g5MQn8jHF7aj",
        "outputId": "45a1e51e-8489-4673-e826-a2f6f4914c6b"
      },
      "source": [
        "output_data.head()"
      ],
      "execution_count": 114,
      "outputs": [
        {
          "output_type": "execute_result",
          "data": {
            "text/html": [
              "<div>\n",
              "<style scoped>\n",
              "    .dataframe tbody tr th:only-of-type {\n",
              "        vertical-align: middle;\n",
              "    }\n",
              "\n",
              "    .dataframe tbody tr th {\n",
              "        vertical-align: top;\n",
              "    }\n",
              "\n",
              "    .dataframe thead th {\n",
              "        text-align: right;\n",
              "    }\n",
              "</style>\n",
              "<table border=\"1\" class=\"dataframe\">\n",
              "  <thead>\n",
              "    <tr style=\"text-align: right;\">\n",
              "      <th></th>\n",
              "      <th>0</th>\n",
              "    </tr>\n",
              "  </thead>\n",
              "  <tbody>\n",
              "    <tr>\n",
              "      <th>0</th>\n",
              "      <td>0</td>\n",
              "    </tr>\n",
              "    <tr>\n",
              "      <th>1</th>\n",
              "      <td>1</td>\n",
              "    </tr>\n",
              "    <tr>\n",
              "      <th>2</th>\n",
              "      <td>1</td>\n",
              "    </tr>\n",
              "    <tr>\n",
              "      <th>3</th>\n",
              "      <td>0</td>\n",
              "    </tr>\n",
              "    <tr>\n",
              "      <th>4</th>\n",
              "      <td>1</td>\n",
              "    </tr>\n",
              "  </tbody>\n",
              "</table>\n",
              "</div>"
            ],
            "text/plain": [
              "   0\n",
              "0  0\n",
              "1  1\n",
              "2  1\n",
              "3  0\n",
              "4  1"
            ]
          },
          "metadata": {
            "tags": []
          },
          "execution_count": 114
        }
      ]
    },
    {
      "cell_type": "code",
      "metadata": {
        "id": "MFpRWF6pKHIS"
      },
      "source": [
        "# create a scatter plot for inputData set"
      ],
      "execution_count": 58,
      "outputs": []
    },
    {
      "cell_type": "code",
      "metadata": {
        "colab": {
          "base_uri": "https://localhost:8080/",
          "height": 282
        },
        "id": "PwmbvWItD-1h",
        "outputId": "7ad9e380-c7ce-4088-a800-c7286c690573"
      },
      "source": [
        "plt.scatter(input_data[0],input_data[1])"
      ],
      "execution_count": 115,
      "outputs": [
        {
          "output_type": "execute_result",
          "data": {
            "text/plain": [
              "<matplotlib.collections.PathCollection at 0x7f17b96d1890>"
            ]
          },
          "metadata": {
            "tags": []
          },
          "execution_count": 115
        },
        {
          "output_type": "display_data",
          "data": {
            "image/png": "[encoded data removed]",
            "text/plain": [
              "<Figure size 432x288 with 1 Axes>"
            ]
          },
          "metadata": {
            "tags": [],
            "needs_background": "light"
          }
        }
      ]
    },
    {
      "cell_type": "code",
      "metadata": {
        "id": "ayr4k--BKPAl"
      },
      "source": [
        "# create a scatter plot for inputData set with outputData color"
      ],
      "execution_count": 61,
      "outputs": []
    },
    {
      "cell_type": "code",
      "metadata": {
        "colab": {
          "base_uri": "https://localhost:8080/",
          "height": 282
        },
        "id": "xguUNN9dD-4X",
        "outputId": "6cebd2e3-157c-41d6-b52d-bf9caba94769"
      },
      "source": [
        "plt.scatter(input_data[0],input_data[1],c=output_data)"
      ],
      "execution_count": 116,
      "outputs": [
        {
          "output_type": "execute_result",
          "data": {
            "text/plain": [
              "<matplotlib.collections.PathCollection at 0x7f17c6c36650>"
            ]
          },
          "metadata": {
            "tags": []
          },
          "execution_count": 116
        },
        {
          "output_type": "display_data",
          "data": {
            "image/png": "[encoded data removed]",
            "text/plain": [
              "<Figure size 432x288 with 1 Axes>"
            ]
          },
          "metadata": {
            "tags": [],
            "needs_background": "light"
          }
        }
      ]
    },
    {
      "cell_type": "code",
      "metadata": {
        "id": "uBpGTQAuKUC8"
      },
      "source": [
        "# Call the sklearn Kmeans and make a model with 200 samples\n",
        "\n"
      ],
      "execution_count": 64,
      "outputs": []
    },
    {
      "cell_type": "code",
      "metadata": {
        "colab": {
          "base_uri": "https://localhost:8080/"
        },
        "id": "mEXZsfYcD-7C",
        "outputId": "55159f1e-92ed-422a-802a-bccc0d0dbfa5"
      },
      "source": [
        "from sklearn.cluster import  KMeans\n",
        "\n",
        "model= KMeans(n_clusters=3)\n",
        "model.fit(input_data)\n"
      ],
      "execution_count": 125,
      "outputs": [
        {
          "output_type": "execute_result",
          "data": {
            "text/plain": [
              "KMeans(algorithm='auto', copy_x=True, init='k-means++', max_iter=300,\n",
              "       n_clusters=3, n_init=10, n_jobs=None, precompute_distances='auto',\n",
              "       random_state=None, tol=0.0001, verbose=0)"
            ]
          },
          "metadata": {
            "tags": []
          },
          "execution_count": 125
        }
      ]
    },
    {
      "cell_type": "code",
      "metadata": {
        "colab": {
          "base_uri": "https://localhost:8080/"
        },
        "id": "G_Jjha2hKosw",
        "outputId": "3413234a-7597-48de-f4de-969a287e08cc"
      },
      "source": [
        "#check for labels\n",
        "model.labels_"
      ],
      "execution_count": 126,
      "outputs": [
        {
          "output_type": "execute_result",
          "data": {
            "text/plain": [
              "array([1, 0, 0, 1, 2, 0, 0, 0, 0, 0, 2, 1, 2, 1, 2, 0, 0, 2, 1, 0, 1, 2,\n",
              "       1, 0, 0, 2, 0, 0, 0, 0, 2, 1, 1, 0, 0, 2, 0, 1, 0, 2, 0, 0, 0, 0,\n",
              "       2, 0, 2, 1, 0, 1, 2, 1, 0, 0, 0, 0, 1, 2, 2, 1, 1, 2, 1, 0, 2, 0,\n",
              "       0, 2, 2, 1, 2, 2, 0, 2, 0, 1, 1, 2, 0, 0, 2, 0, 1, 2, 1, 2, 0, 0,\n",
              "       2, 2, 2, 1, 2, 0, 0, 1, 2, 1, 1, 1], dtype=int32)"
            ]
          },
          "metadata": {
            "tags": []
          },
          "execution_count": 126
        }
      ]
    },
    {
      "cell_type": "code",
      "metadata": {
        "colab": {
          "base_uri": "https://localhost:8080/"
        },
        "id": "avNwIrvXD-9C",
        "outputId": "e4aa240f-0ec1-4878-c58b-0996ff04023e"
      },
      "source": [
        "# call metrics and check silhoutte score\n",
        "from sklearn import metrics\n",
        "\n",
        "metrics.silhouette_score(input_data,model.labels_)"
      ],
      "execution_count": 127,
      "outputs": [
        {
          "output_type": "execute_result",
          "data": {
            "text/plain": [
              "0.4118274701259306"
            ]
          },
          "metadata": {
            "tags": []
          },
          "execution_count": 127
        }
      ]
    },
    {
      "cell_type": "code",
      "metadata": {
        "colab": {
          "base_uri": "https://localhost:8080/",
          "height": 282
        },
        "id": "eFNFQtE_D-_n",
        "outputId": "d1735984-d26a-49d8-ba5d-645ccd859f1a"
      },
      "source": [
        "plt.scatter(input_data[0],input_data[1],c=model.labels_)"
      ],
      "execution_count": 128,
      "outputs": [
        {
          "output_type": "execute_result",
          "data": {
            "text/plain": [
              "<matplotlib.collections.PathCollection at 0x7f17b9064f10>"
            ]
          },
          "metadata": {
            "tags": []
          },
          "execution_count": 128
        },
        {
          "output_type": "display_data",
          "data": {
            "image/png": "[encoded data removed]",
            "text/plain": [
              "<Figure size 432x288 with 1 Axes>"
            ]
          },
          "metadata": {
            "tags": [],
            "needs_background": "light"
          }
        }
      ]
    },
    {
      "cell_type": "code",
      "metadata": {
        "id": "_fkKSkBdD9jE"
      },
      "source": [
        "cluster_range = range(1, 20)\n",
        "error_list = []\n",
        "\n",
        "for i in cluster_range:\n",
        "    model = KMeans(n_clusters=i)\n",
        "    model.fit(input_data)\n",
        "    res = model.inertia_\n",
        "    error_list.append(res)"
      ],
      "execution_count": 129,
      "outputs": []
    },
    {
      "cell_type": "code",
      "metadata": {
        "colab": {
          "base_uri": "https://localhost:8080/",
          "height": 295
        },
        "id": "_PCrYp6ED9mD",
        "outputId": "3182d0c8-a0e9-455e-80a3-fb760f5c8487"
      },
      "source": [
        "import matplotlib.pyplot as plt\n",
        "\n",
        "plt.plot(cluster_range, error_list, marker = \"o\", color = \"g\", markersize = 10)\n",
        "plt.xlabel(\"Cluster Range\")\n",
        "plt.ylabel(\"IntraCluster Sum\")\n",
        "plt.title(\"KMeans\")\n",
        "plt.show()"
      ],
      "execution_count": 130,
      "outputs": [
        {
          "output_type": "display_data",
          "data": {
            "image/png": "[encoded data removed]",
            "text/plain": [
              "<Figure size 432x288 with 1 Axes>"
            ]
          },
          "metadata": {
            "tags": [],
            "needs_background": "light"
          }
        }
      ]
    },
    {
      "cell_type": "code",
      "metadata": {
        "id": "CYXJvFh8D9o3"
      },
      "source": [
        ""
      ],
      "execution_count": null,
      "outputs": []
    },
    {
      "cell_type": "code",
      "metadata": {
        "id": "b3sEN04ID9uJ"
      },
      "source": [
        ""
      ],
      "execution_count": null,
      "outputs": []
    },
    {
      "cell_type": "code",
      "metadata": {
        "id": "trbAAFsRD9wy"
      },
      "source": [
        ""
      ],
      "execution_count": null,
      "outputs": []
    },
    {
      "cell_type": "code",
      "metadata": {
        "id": "lBPNH5RlD9zz"
      },
      "source": [
        ""
      ],
      "execution_count": null,
      "outputs": []
    },
    {
      "cell_type": "code",
      "metadata": {
        "id": "CsED_gZ4D92F"
      },
      "source": [
        ""
      ],
      "execution_count": null,
      "outputs": []
    },
    {
      "cell_type": "code",
      "metadata": {
        "id": "HFzI5_IJD94i"
      },
      "source": [
        ""
      ],
      "execution_count": null,
      "outputs": []
    },
    {
      "cell_type": "code",
      "metadata": {
        "id": "oBwcwY_OD97H"
      },
      "source": [
        ""
      ],
      "execution_count": null,
      "outputs": []
    },
    {
      "cell_type": "code",
      "metadata": {
        "id": "dmK-mt1KD-Ab"
      },
      "source": [
        ""
      ],
      "execution_count": null,
      "outputs": []
    },
    {
      "cell_type": "code",
      "metadata": {
        "id": "bnBrMn4YD-C9"
      },
      "source": [
        ""
      ],
      "execution_count": null,
      "outputs": []
    },
    {
      "cell_type": "code",
      "metadata": {
        "id": "frCZ0g4-D-F5"
      },
      "source": [
        ""
      ],
      "execution_count": null,
      "outputs": []
    }
  ]
}